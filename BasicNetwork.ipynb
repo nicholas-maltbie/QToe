{
 "cells": [
  {
   "cell_type": "markdown",
   "metadata": {},
   "source": [
    "# Basic Network Notebook\n",
    "\n",
    "This notebook contains the definition for a basic network that will \n",
    "play tic tac toe. This notebook also contains code to train this \n",
    "network utilizing Q learning\n"
   ]
  },
  {
   "cell_type": "code",
   "execution_count": 4,
   "metadata": {
    "collapsed": true
   },
   "outputs": [],
   "source": [
    "# Import Tic Tac Toe code\n",
    "from game import TicTacToe\n",
    "\n",
    "# Make a game\n",
    "toe = TicTacToe()"
   ]
  },
  {
   "cell_type": "markdown",
   "metadata": {},
   "source": [
    "# Define Network\n",
    "\n",
    "Below is the code to create a nerual network to play the \n",
    "tic tac toe game. "
   ]
  },
  {
   "cell_type": "code",
   "execution_count": 5,
   "metadata": {
    "collapsed": true
   },
   "outputs": [],
   "source": [
    "import tensorflow as tf\n",
    "\n",
    "# Define settings\n",
    "board_size = toe.size * toe.size\n",
    "\n",
    "# Trying for simple DNN right now\n",
    "hidden = 9\n",
    "\n",
    "# Define output space size, one output for each space\n",
    "# Network will output the space it wants to play on\n",
    "output_size = board_size\n",
    "\n",
    "# Learning Rate\n",
    "learning_rate = 0.5\n",
    "\n",
    "board = tf.placeholder(dtype=tf.int8, \n",
    "                       shape=[board_size],\n",
    "                       name=\"Board\")\n",
    "\n",
    "#Weights\n",
    "W = tf.Variable(tf.random_normal(shape=[hidden, output_size]),\n",
    "                name=\"Weights\")\n",
    "#Biases\n",
    "b = tf.Variable(tf.zeros(shape=[output_size]),\n",
    "                name=\"Biases\")\n",
    "\n",
    "#Output\n",
    "qout = tf.matmul(inputs, W) + b\n",
    "\n",
    "#Prediction\n",
    "pred = tf.argmax(qout)\n",
    "\n",
    "\n"
   ]
  },
  {
   "cell_type": "code",
   "execution_count": null,
   "metadata": {
    "collapsed": true
   },
   "outputs": [],
   "source": [
    "    "
   ]
  }
 ],
 "metadata": {
  "kernelspec": {
   "display_name": "Python 3",
   "language": "python",
   "name": "python3"
  },
  "language_info": {
   "codemirror_mode": {
    "name": "ipython",
    "version": 3
   },
   "file_extension": ".py",
   "mimetype": "text/x-python",
   "name": "python",
   "nbconvert_exporter": "python",
   "pygments_lexer": "ipython3",
   "version": "3.6.2"
  }
 },
 "nbformat": 4,
 "nbformat_minor": 2
}
